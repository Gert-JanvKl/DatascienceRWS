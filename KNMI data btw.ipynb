{
 "cells": [
  {
   "cell_type": "markdown",
   "metadata": {},
   "source": [
    "## Import all libraries"
   ]
  },
  {
   "cell_type": "code",
   "execution_count": 1,
   "metadata": {},
   "outputs": [],
   "source": [
    "import csv\n",
    "import matplotlib.pyplot as plt\n",
    "import sqlite3"
   ]
  },
  {
   "cell_type": "markdown",
   "metadata": {},
   "source": [
    "## Set variables"
   ]
  },
  {
   "cell_type": "code",
   "execution_count": 2,
   "metadata": {},
   "outputs": [],
   "source": [
    "new_file=open(\"luchtvochtigheid.csv\", \"w\", newline='')\n",
    "new_file_2=open(\"doorlooptijden.csv\", \"w\", newline='')\n",
    "file=\"bestand.csv\"\n",
    "writer=csv.writer(new_file , delimiter=\";\")\n",
    "writer2=csv.writer(new_file_2 , delimiter=\";\") "
   ]
  },
  {
   "cell_type": "markdown",
   "metadata": {},
   "source": [
    "## Make the header row in the new csv file"
   ]
  },
  {
   "cell_type": "code",
   "execution_count": 3,
   "metadata": {},
   "outputs": [
    {
     "data": {
      "text/plain": [
       "44"
      ]
     },
     "execution_count": 3,
     "metadata": {},
     "output_type": "execute_result"
    }
   ],
   "source": [
    "writer.writerow(['Dag', 'Maand', 'Jaar', 'Gemiddelde_luchtvochtigheid'])"
   ]
  },
  {
   "cell_type": "markdown",
   "metadata": {},
   "source": [
    "## Move the needed data from the old file to the new one"
   ]
  },
  {
   "cell_type": "code",
   "execution_count": 4,
   "metadata": {},
   "outputs": [],
   "source": [
    "with open(file) as f:\n",
    "    reader = csv.reader(f, skipinitialspace=True, delimiter=\",\")\n",
    "    for _ in range(16):\n",
    "        next(reader)\n",
    "    for row in reader:\n",
    "        content= []\n",
    "        for column in row:\n",
    "            if column == row[1]:\n",
    "                content += [column[6:8]]\n",
    "                content += [column[4:6]]\n",
    "                content += [column[0:4]]\n",
    "            if column == row[2]:\n",
    "                content += [column]\n",
    "        writer.writerow(content)"
   ]
  },
  {
   "cell_type": "markdown",
   "metadata": {},
   "source": [
    "## Close the new file and save the new data"
   ]
  },
  {
   "cell_type": "code",
   "execution_count": 5,
   "metadata": {},
   "outputs": [],
   "source": [
    "new_file.close()"
   ]
  },
  {
   "cell_type": "markdown",
   "metadata": {},
   "source": [
    "## Test the content of the new file and show it"
   ]
  },
  {
   "cell_type": "code",
   "execution_count": 6,
   "metadata": {},
   "outputs": [
    {
     "name": "stdout",
     "output_type": "stream",
     "text": [
      "['Dag', 'Maand', 'Jaar', 'Gemiddelde_luchtvochtigheid']\n",
      "['01', '01', '2016', '94']\n",
      "['02', '01', '2016', '89']\n",
      "['03', '01', '2016', '87']\n",
      "['04', '01', '2016', '93']\n",
      "['05', '01', '2016', '88']\n",
      "['06', '01', '2016', '96']\n",
      "['07', '01', '2016', '86']\n",
      "['08', '01', '2016', '81']\n",
      "['09', '01', '2016', '88']\n",
      "['10', '01', '2016', '83']\n",
      "['11', '01', '2016', '93']\n",
      "['12', '01', '2016', '86']\n",
      "['13', '01', '2016', '86']\n",
      "['14', '01', '2016', '89']\n",
      "['15', '01', '2016', '93']\n",
      "['16', '01', '2016', '86']\n",
      "['17', '01', '2016', '84']\n",
      "['18', '01', '2016', '84']\n",
      "['19', '01', '2016', '79']\n",
      "['20', '01', '2016', '85']\n",
      "['21', '01', '2016', '97']\n",
      "['22', '01', '2016', '86']\n",
      "['23', '01', '2016', '96']\n",
      "['24', '01', '2016', '96']\n",
      "['25', '01', '2016', '79']\n",
      "['26', '01', '2016', '83']\n",
      "['27', '01', '2016', '85']\n",
      "['28', '01', '2016', '74']\n",
      "['29', '01', '2016', '81']\n",
      "['30', '01', '2016', '85']\n",
      "['31', '01', '2016', '89']\n"
     ]
    }
   ],
   "source": [
    "with open(\"bestand2.csv\") as f:\n",
    "    r = csv.reader(f, delimiter=\";\")\n",
    "    for row in r:\n",
    "        print(row)"
   ]
  },
  {
   "cell_type": "markdown",
   "metadata": {},
   "source": [
    "## Add data to variables"
   ]
  },
  {
   "cell_type": "code",
   "execution_count": 7,
   "metadata": {},
   "outputs": [
    {
     "name": "stdout",
     "output_type": "stream",
     "text": [
      "[1, 2, 3, 4, 5, 6, 7, 8, 9, 10, 11, 12, 13, 14, 15, 16, 17, 18, 19, 20, 21, 22, 23, 24, 25, 26, 27, 28, 29, 30, 31]\n",
      "[94, 89, 87, 93, 88, 96, 86, 81, 88, 83, 93, 86, 86, 89, 93, 86, 84, 84, 79, 85, 97, 86, 96, 96, 79, 83, 85, 74, 81, 85, 89]\n"
     ]
    }
   ],
   "source": [
    "with open(\"bestand2.csv\") as f:\n",
    "    dagen = []\n",
    "    luchtvochtigheid = []\n",
    "    timelist = []\n",
    "    daylist = []\n",
    "    r = csv.reader(f, delimiter=\";\")\n",
    "    next(r)\n",
    "    for row in r:   \n",
    "        dagen += [int(row[0])]\n",
    "        luchtvochtigheid += [int(row[3])]\n",
    "    print(dagen)\n",
    "    print(luchtvochtigheid)"
   ]
  },
  {
   "cell_type": "markdown",
   "metadata": {},
   "source": [
    "## Plot data"
   ]
  },
  {
   "cell_type": "code",
   "execution_count": 8,
   "metadata": {},
   "outputs": [
    {
     "data": {
      "image/png": "[encoded data removed]",
      "text/plain": [
       "<Figure size 432x288 with 1 Axes>"
      ]
     },
     "metadata": {
      "needs_background": "light"
     },
     "output_type": "display_data"
    }
   ],
   "source": [
    "plt.plot(dagen,luchtvochtigheid)\n",
    "plt.title(\"Luchtvochtigheid in Januari 2016 volgens KNMI\")\n",
    "plt.xlabel(\"Dag\")\n",
    "plt.ylabel(\"Luchtvochtigheid (%)\")\n",
    "plt.ylim(0,100)\n",
    "plt.show()"
   ]
  },
  {
   "cell_type": "markdown",
   "metadata": {},
   "source": [
    "## Write data to csv-file"
   ]
  },
  {
   "cell_type": "code",
   "execution_count": 9,
   "metadata": {
    "scrolled": true
   },
   "outputs": [],
   "source": [
    "con = sqlite3.connect(\"NO_XXX_EVENT_EXPORT/bridges.db\")\n",
    "cur = con.cursor()\n",
    "\n",
    "cur.execute('SELECT Tijd, Waarde, Omschrijving FROM WA WHERE Tijd LIKE \"%-01-2016%\" AND Omschrijving == \"SFC Aandrijving Commando Brug Openen\" AND Waarde == \"TRUE\" OR Tijd LIKE \"%-01-2016%\" AND Omschrijving == \"SFC Aandrijving Commando Brug Sluiten\" AND Waarde == \"FALSE\" ORDER BY Tijd')\n",
    "writer2.writerow(['Dag', 'Maand', 'Jaar', 'Tijd', 'Open'])\n",
    "for row in cur.fetchall():\n",
    "    for column in row:\n",
    "        if column == row[0]:\n",
    "            dag = column[0:2]\n",
    "            maand = column[3:5]\n",
    "            jaar = column[6:10]\n",
    "            tijd = column[11:23]\n",
    "        if column == row[1]:\n",
    "            opened = column\n",
    "    writer2.writerow([dag, maand, jaar, tijd, opened])\n",
    "con.close()\n",
    "new_file_2.close()"
   ]
  },
  {
   "cell_type": "markdown",
   "metadata": {},
   "source": [
    "## Calculate times"
   ]
  },
  {
   "cell_type": "code",
   "execution_count": 10,
   "metadata": {
    "scrolled": false
   },
   "outputs": [
    {
     "name": "stdout",
     "output_type": "stream",
     "text": [
      "4 05:06\n",
      "5 04:45\n",
      "6 06:08\n",
      "6 04:46\n",
      "6 04:57\n",
      "7 05:06\n",
      "7 05:03\n",
      "7 04:04\n",
      "8 05:37\n",
      "8 04:54\n",
      "8 05:46\n",
      "11 03:26\n",
      "12 05:01\n",
      "13 01:43\n",
      "13 11:31\n",
      "13 04:21\n",
      "13 07:32\n",
      "13 05:34\n",
      "14 96:15\n",
      "14 03:27\n",
      "14 04:13\n",
      "15 04:28\n",
      "15 05:00\n",
      "15 04:35\n",
      "15 07:54\n",
      "16 04:33\n",
      "16 03:51\n",
      "17 04:59\n",
      "17 04:05\n",
      "19 05:52\n",
      "19 04:39\n",
      "19 05:22\n",
      "20 05:13\n",
      "21 06:41\n",
      "21 07:37\n",
      "21 04:50\n",
      "22 04:28\n",
      "22 04:59\n",
      "24 05:02\n",
      "24 04:52\n",
      "25 06:05\n",
      "25 04:48\n",
      "25 08:38\n",
      "26 05:05\n",
      "26 04:24\n",
      "26 07:12\n",
      "26 02:33\n",
      "26 02:45\n",
      "26 06:06\n",
      "26 05:59\n",
      "26 05:15\n",
      "27 04:28\n",
      "27 05:15\n",
      "27 04:06\n",
      "27 05:24\n",
      "27 04:59\n",
      "27 04:34\n",
      "27 04:34\n",
      "28 05:34\n",
      "28 04:07\n",
      "28 04:20\n",
      "28 05:02\n",
      "29 04:38\n",
      "29 03:43\n",
      "29.5 04:37\n",
      "30 05:21\n",
      "30 04:13\n",
      "31 04:35\n"
     ]
    }
   ],
   "source": [
    "with open(\"doorlooptijden.csv\") as f:\n",
    "    first = None\n",
    "    second = None\n",
    "    Fday = None\n",
    "    Sday = None\n",
    "    r = csv.reader(f, delimiter=\";\")\n",
    "    next(r)\n",
    "    for row in r:\n",
    "        for column in row:\n",
    "            if column == row[3]:\n",
    "                if first == None:\n",
    "                    Fday = int(row[0])\n",
    "                    Fhour = int(column[0:2])\n",
    "                    Fminute = int(column[3:5])\n",
    "                    Fsecond = int(column[6:8])\n",
    "                    Fmilisecond = int(column[9:12])\n",
    "                    first = Fhour*60*60*1000 +Fminute*60*1000 + Fsecond*1000 + Fmilisecond\n",
    "                else:\n",
    "                    Sday = int(row[0])\n",
    "                    Shour = int(column[0:2])\n",
    "                    Sminute = int(column[3:5])\n",
    "                    Ssecond = int(column[6:8])\n",
    "                    Smilisecond = int(column[9:12])\n",
    "                    second = Shour*60*60*1000 +Sminute*60*1000 + Ssecond*1000 + Smilisecond\n",
    "                    time_between = second-first\n",
    "                    if time_between < 0:\n",
    "                        time_between = second-first+24*60*60*1000\n",
    "                        \n",
    "                    if ((Sday-Fday)/2) == 0.5:\n",
    "                        _day = Fday + 0.5\n",
    "                    else:\n",
    "                        _day = Fday\n",
    "                        \n",
    "                    print(str(_day)+\" \"+str(\"{:02d}\".format(int(int((time_between-time_between%1000)/1000)/60)))+\":\"+str(\"{:02d}\".format(int((time_between-time_between%1000)/1000)%60)))\n",
    "                    timelist += [time_between/1000]\n",
    "                    daylist += [_day]\n",
    "                    first = None\n",
    "                    second = None    "
   ]
  },
  {
   "cell_type": "code",
   "execution_count": 11,
   "metadata": {},
   "outputs": [
    {
     "data": {
      "image/png": "[encoded data removed]",
      "text/plain": [
       "<Figure size 432x288 with 1 Axes>"
      ]
     },
     "metadata": {
      "needs_background": "light"
     },
     "output_type": "display_data"
    }
   ],
   "source": [
    "plt.scatter(daylist,timelist)\n",
    "plt.title('Doorlooptijden in Januari 2016')\n",
    "plt.xlabel(\"Dag\")\n",
    "plt.ylabel(\"Tijd (sec.)\")\n",
    "plt.show()"
   ]
  },
  {
   "cell_type": "markdown",
   "metadata": {},
   "source": [
    "## Merged plot"
   ]
  },
  {
   "cell_type": "code",
   "execution_count": 12,
   "metadata": {},
   "outputs": [
    {
     "data": {
      "image/png": "[encoded data removed]",
      "text/plain": [
       "<Figure size 432x288 with 2 Axes>"
      ]
     },
     "metadata": {
      "needs_background": "light"
     },
     "output_type": "display_data"
    }
   ],
   "source": [
    "plt.plot(dagen,luchtvochtigheid)\n",
    "plt.title('Invloed van luchvochtigheid op de doorlooptijd')\n",
    "plt.ylim(0,100)\n",
    "plt.ylabel(\"Luchtvochtigheid (%)\")\n",
    "plt.xlabel(\"Dag\")\n",
    "plt.twinx()\n",
    "plt.scatter(daylist,timelist)\n",
    "plt.ylabel(\"Doorlooptijd (sec.)\")\n",
    "plt.xlabel(\"Dag\")\n",
    "plt.show()"
   ]
  },
  {
   "cell_type": "code",
   "execution_count": null,
   "metadata": {},
   "outputs": [],
   "source": []
  }
 ],
 "metadata": {
  "kernelspec": {
   "display_name": "Python 3",
   "language": "python",
   "name": "python3"
  },
  "language_info": {
   "codemirror_mode": {
    "name": "ipython",
    "version": 3
   },
   "file_extension": ".py",
   "mimetype": "text/x-python",
   "name": "python",
   "nbconvert_exporter": "python",
   "pygments_lexer": "ipython3",
   "version": "3.7.2"
  }
 },
 "nbformat": 4,
 "nbformat_minor": 2
}
