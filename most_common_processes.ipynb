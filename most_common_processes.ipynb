{
 "cells": [
  {
   "cell_type": "code",
   "execution_count": 4,
   "metadata": {},
   "outputs": [],
   "source": [
    "import sqlite3\n",
    "\n",
    "conn = sqlite3.connect('NO_XXX_EVENT_EXPORT/bridges.db')\n",
    "cursor = conn.cursor()\n",
    "list = []"
   ]
  },
  {
   "cell_type": "code",
   "execution_count": 17,
   "metadata": {},
   "outputs": [
    {
     "ename": "OperationalError",
     "evalue": "near \"PERCENT\": syntax error",
     "traceback": [
      "\u001b[1;31m---------------------------------------------------------------------------\u001b[0m",
      "\u001b[1;31mOperationalError\u001b[0m                          Traceback (most recent call last)",
      "\u001b[1;32m<ipython-input-17-a645cbcc190c>\u001b[0m in \u001b[0;36m<module>\u001b[1;34m\u001b[0m\n\u001b[0;32m      1\u001b[0m \u001b[0mbrugnummers\u001b[0m \u001b[1;33m=\u001b[0m \u001b[1;33m[\u001b[0m\u001b[1;34m'W5'\u001b[0m\u001b[1;33m,\u001b[0m\u001b[1;34m'WA'\u001b[0m\u001b[1;33m,\u001b[0m\u001b[1;34m'WB'\u001b[0m\u001b[1;33m,\u001b[0m\u001b[1;34m'WBH'\u001b[0m\u001b[1;33m,\u001b[0m\u001b[1;34m'WD'\u001b[0m\u001b[1;33m,\u001b[0m\u001b[1;34m'WE'\u001b[0m\u001b[1;33m,\u001b[0m\u001b[1;34m'WG'\u001b[0m\u001b[1;33m,\u001b[0m\u001b[1;34m'WGR'\u001b[0m\u001b[1;33m,\u001b[0m\u001b[1;34m'WH'\u001b[0m\u001b[1;33m,\u001b[0m\u001b[1;34m'WHE'\u001b[0m\u001b[1;33m,\u001b[0m\u001b[1;34m'WHO'\u001b[0m\u001b[1;33m,\u001b[0m\u001b[1;34m'WHT'\u001b[0m\u001b[1;33m,\u001b[0m\u001b[1;34m'WHY'\u001b[0m\u001b[1;33m,\u001b[0m\u001b[1;34m'WL'\u001b[0m\u001b[1;33m,\u001b[0m\u001b[1;34m'WO'\u001b[0m\u001b[1;33m,\u001b[0m\u001b[1;34m'WOB'\u001b[0m\u001b[1;33m,\u001b[0m\u001b[1;34m'WS'\u001b[0m\u001b[1;33m,\u001b[0m\u001b[1;34m'WT'\u001b[0m\u001b[1;33m,\u001b[0m\u001b[1;34m'WW'\u001b[0m\u001b[1;33m,\u001b[0m\u001b[1;34m'ZBS'\u001b[0m\u001b[1;33m,\u001b[0m\u001b[1;34m'ZST'\u001b[0m\u001b[1;33m]\u001b[0m\u001b[1;33m\u001b[0m\u001b[1;33m\u001b[0m\u001b[0m\n\u001b[0;32m      2\u001b[0m \u001b[1;32mfor\u001b[0m \u001b[0mbrug\u001b[0m \u001b[1;32min\u001b[0m \u001b[0mbrugnummers\u001b[0m\u001b[1;33m:\u001b[0m\u001b[1;33m\u001b[0m\u001b[1;33m\u001b[0m\u001b[0m\n\u001b[1;32m----> 3\u001b[1;33m     \u001b[0mcursor\u001b[0m\u001b[1;33m.\u001b[0m\u001b[0mexecute\u001b[0m\u001b[1;33m(\u001b[0m\u001b[1;34m\"SELECT Omschrijving, count(*) FROM \"\u001b[0m\u001b[1;33m+\u001b[0m\u001b[0mbrug\u001b[0m\u001b[1;33m+\u001b[0m\u001b[1;34m\" GROUP BY Omschrijving limit 2 PERCENT\"\u001b[0m\u001b[1;33m)\u001b[0m\u001b[1;33m\u001b[0m\u001b[1;33m\u001b[0m\u001b[0m\n\u001b[0m\u001b[0;32m      4\u001b[0m     \u001b[0mprint\u001b[0m\u001b[1;33m(\u001b[0m\u001b[0mcursor\u001b[0m\u001b[1;33m.\u001b[0m\u001b[0mfetchall\u001b[0m\u001b[1;33m(\u001b[0m\u001b[1;33m)\u001b[0m\u001b[1;33m)\u001b[0m\u001b[1;33m\u001b[0m\u001b[1;33m\u001b[0m\u001b[0m\n\u001b[0;32m      5\u001b[0m \u001b[1;33m\u001b[0m\u001b[0m\n",
      "\u001b[1;31mOperationalError\u001b[0m: near \"PERCENT\": syntax error"
     ],
     "output_type": "error"
    }
   ],
   "source": [
    "brugnummers = ['W5','WA','WB','WBH','WD','WE','WG','WGR','WH','WHE','WHO','WHT','WHY','WL','WO','WOB','WS','WT','WW','ZBS','ZST']\n",
    "for brug in brugnummers:\n",
    "    cursor.execute(\"SELECT Omschrijving, count(*) FROM \"+brug+\" GROUP BY Omschrijving limit \")\n",
    "    print(cursor.fetchall())\n",
    "    "
   ]
  },
  {
   "cell_type": "code",
   "execution_count": null,
   "metadata": {},
   "outputs": [],
   "source": []
  }
 ],
 "metadata": {
  "kernelspec": {
   "display_name": "Python 3",
   "language": "python",
   "name": "python3"
  },
  "language_info": {
   "codemirror_mode": {
    "name": "ipython",
    "version": 3
   },
   "file_extension": ".py",
   "mimetype": "text/x-python",
   "name": "python",
   "nbconvert_exporter": "python",
   "pygments_lexer": "ipython3",
   "version": "3.7.2"
  }
 },
 "nbformat": 4,
 "nbformat_minor": 2
}
