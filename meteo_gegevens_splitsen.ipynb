{
 "cells": [
  {
   "cell_type": "markdown",
   "metadata": {},
   "source": [
    "## Import libraries"
   ]
  },
  {
   "cell_type": "code",
   "execution_count": 1,
   "metadata": {},
   "outputs": [],
   "source": [
    "import sqlite3\n",
    "import os\n",
    "import csv\n",
    "print(\"sqlite, os and csv imported !\")"
   ]
  },
  {
   "cell_type": "markdown",
   "metadata": {},
   "source": [
    "## Set working directory"
   ]
  },
  {
   "cell_type": "code",
   "execution_count": 2,
   "metadata": {},
   "outputs": [],
   "source": [
    "if(os.getcwd().split('\\\\')[-1] == \"NO_XXX_EVENT_EXPORT\"): #check if te woring directory is already set\n",
    "    print(\"working directory already set\")\n",
    "else: #the directory needs to be changed\n",
    "    os.chdir(os.getcwd()+\"/NO_XXX_EVENT_EXPORT\") # change the directory to the directory with the csvfiles  \n",
    "    print(\"working directory is set to: \"+ os.getcwd())"
   ]
  },
  {
   "cell_type": "markdown",
   "metadata": {},
   "source": [
    "## Set variables"
   ]
  },
  {
   "cell_type": "code",
   "execution_count": 3,
   "metadata": {},
   "outputs": [],
   "source": [
    "bridge_con = sqlite3.connect(\"bridges.db\")\n",
    "bridge_cur = bridge_con.cursor()\n",
    "meteo_con = sqlite3.connect(\"meteo.db\")\n",
    "meteo_cur = meteo_con.cursor()\n",
    "clean_bridge_con = sqlite3.connect(\"clean_bridges.db\")\n",
    "clean_bridge_cur = clean_bridge_con.cursor()\n",
    "csv_file = \"NO_ZST_EVENT_EXPORT_2017-01-30_00-00-00_2017-01-30_23-59-59.CSV\" #random csv file to read the headers from\n",
    "brugnummers = ('W5','WA','WB','WBH','WD','WE','WG','WGR','WH','WHE','WHO','WHT','WHY','WL','WO','WOB','WS','WT','WW','ZBS','ZST')\n",
    "print(\"variables meteo_con, meteo_cur, bridge_con, bridge_cur, clean_bridge_con, clean_bridge_cur, csv_file and brugnummers are set!\")"
   ]
  },
  {
   "cell_type": "markdown",
   "metadata": {},
   "source": [
    "## create a list with headers matching the columnnames in the DataBase"
   ]
  },
  {
   "cell_type": "code",
   "execution_count": 4,
   "metadata": {},
   "outputs": [
    {
     "name": "stdout",
     "output_type": "stream",
     "text": [
      "all headers are collected and corrected to match the columnames in the database!\n"
     ]
    }
   ],
   "source": [
    "with open(csv_file) as file:\n",
    "    reader = csv.reader(file,  delimiter=\";\")\n",
    "    for _ in range(23):\n",
    "        next(reader); \n",
    "    headers = next(reader)[:-1]\n",
    "headers[headers.index('Cmnt.')] = 'Comment'\n",
    "headers[headers.index('Tijd came')] = 'Tijd_came'\n",
    "headers[headers.index('Tijd went')] = 'Tijd_went'\n",
    "headers[headers.index('Tijd ack')] = 'Tijd_ack'\n",
    "headers[headers.index('Gebr.ID')] = 'UUID'\n",
    "print(\"all headers are collected and corrected to match the columnames in the database!\")"
   ]
  },
  {
   "cell_type": "markdown",
   "metadata": {},
   "source": [
    "## create a new database for the meteo data"
   ]
  },
  {
   "cell_type": "code",
   "execution_count": 5,
   "metadata": {},
   "outputs": [
    {
     "name": "stdout",
     "output_type": "stream",
     "text": [
      "database created for meteo data!\n"
     ]
    }
   ],
   "source": [
    "meteo_cur.execute(\"CREATE TABLE IF NOT EXISTS data (Tijd text, Waarde text, Omschrijving text, UUID text, DPE text);\")\n",
    "print(\"database created for meteo data!\")"
   ]
  },
  {
   "cell_type": "markdown",
   "metadata": {},
   "source": [
    "## create a list with all meteo descriptions"
   ]
  },
  {
   "cell_type": "code",
   "execution_count": 6,
   "metadata": {},
   "outputs": [
    {
     "name": "stdout",
     "output_type": "stream",
     "text": [
      "['Meteo Actuele Windrichting', 'Meteo Gemiddelde Windkracht', 'Meteo Hoogste Windkracht', 'Meteo Commando Reset Storing', 'Meteo Gemiddelde Windrichting', 'Meteo Actuele Luchtdruk', 'Meteo Actuele Waterhoogte', 'Meteo Actuele Windkracht', 'Meteo Actuele Onderdoorvaarthoogte', 'Meteo Actuele Temperatuur', 'Meteo Actuele Luchtvochtigheid', 'Meteo Windstoot Actief']\n"
     ]
    }
   ],
   "source": [
    "for brugnummer in brugnummers:\n",
    "    bridge_cur.execute(\"SELECT Omschrijving FROM \"+brugnummer+\" WHERE [Omschrijving] LIKE '%meteo%'\")\n",
    "    meteo_list = []\n",
    "    for _ in set(bridge_cur.fetchall()):\n",
    "        meteo_list += [str(_)[2:-3]]\n",
    "print(meteo_list)"
   ]
  },
  {
   "cell_type": "markdown",
   "metadata": {},
   "source": [
    "## create a list with all meteo descriptions and counts"
   ]
  },
  {
   "cell_type": "code",
   "execution_count": 7,
   "metadata": {
    "scrolled": true
   },
   "outputs": [],
   "source": [
    "# for list_item in meteo_list:\n",
    "#     counter = 0\n",
    "#     for brugnummer in brugnummers:\n",
    "#         bridge_cur.execute(\"SELECT count(*) FROM \"+brugnummer+\" WHERE [Omschrijving] == '\"+list_item+\"'\")\n",
    "#         counter += int(str(bridge_cur.fetchall())[2:-3])\n",
    "#     print(list_item +\": \"+str(counter))"
   ]
  },
  {
   "cell_type": "markdown",
   "metadata": {},
   "source": [
    "## select all meteo data and put it in the new database\n",
    "### takes a looooooooooooooooooong time"
   ]
  },
  {
   "cell_type": "code",
   "execution_count": 8,
   "metadata": {},
   "outputs": [
    {
     "name": "stdout",
     "output_type": "stream",
     "text": [
      "Meteo Actuele Windrichting naar database geschreven.\n",
      "Meteo Gemiddelde Windkracht naar database geschreven.\n",
      "Meteo Hoogste Windkracht naar database geschreven.\n",
      "Meteo Commando Reset Storing naar database geschreven.\n",
      "Meteo Gemiddelde Windrichting naar database geschreven.\n",
      "Meteo Actuele Luchtdruk naar database geschreven.\n",
      "Meteo Actuele Waterhoogte naar database geschreven.\n",
      "Meteo Actuele Windkracht naar database geschreven.\n",
      "Meteo Actuele Onderdoorvaarthoogte naar database geschreven.\n",
      "Meteo Actuele Temperatuur naar database geschreven.\n",
      "Meteo Actuele Luchtvochtigheid naar database geschreven.\n",
      "Meteo Windstoot Actief naar database geschreven.\n",
      "alle data is naar meteo.db gechreven!\n"
     ]
    }
   ],
   "source": [
    "for list_item in meteo_list:\n",
    "    for brugnummer in brugnummers:\n",
    "        meteo_data_list = bridge_cur.execute(\"SELECT * FROM \"+brugnummer+\" WHERE [Omschrijving] == '\"+list_item+\"'\")\n",
    "        for row in meteo_data_list:\n",
    "            to_db = (row[0],row[3],row[5],row[12],row[13])\n",
    "            meteo_cur.executemany(\"INSERT INTO data (Tijd, Waarde, Omschrijving, UUID, DPE) VALUES (?, ?, ?, ?, ?);\", (to_db,))\n",
    "    print(list_item+ \" naar database geschreven.\")\n",
    "meteo_con.commit()\n",
    "print(\"alle data is naar meteo.db gechreven!\")"
   ]
  },
  {
   "cell_type": "markdown",
   "metadata": {},
   "source": [
    "## test if the splited meteo data works"
   ]
  },
  {
   "cell_type": "code",
   "execution_count": 9,
   "metadata": {},
   "outputs": [],
   "source": [
    "# for list_item in meteo_list:\n",
    "#     meteo_cur.execute(\"SELECT count(*) FROM data WHERE [Omschrijving] == '\"+list_item+\"'\")\n",
    "#     print(list_item +\": \"+str(meteo_cur.fetchall())[2:-3])"
   ]
  },
  {
   "cell_type": "markdown",
   "metadata": {},
   "source": [
    "## close all connections with the databases"
   ]
  },
  {
   "cell_type": "code",
   "execution_count": 10,
   "metadata": {},
   "outputs": [],
   "source": [
    "bridge_con.close()\n",
    "clean_bridge_con.close()\n",
    "meteo_con.close()"
   ]
  },
  {
   "cell_type": "code",
   "execution_count": 11,
   "metadata": {},
   "outputs": [],
   "source": [
    "# MeteoData is altijd een PROCES volgens de logs"
   ]
  }
 ],
 "metadata": {
  "kernelspec": {
   "display_name": "Python 3",
   "language": "python",
   "name": "python3"
  },
  "language_info": {
   "codemirror_mode": {
    "name": "ipython",
    "version": 3
   },
   "file_extension": ".py",
   "mimetype": "text/x-python",
   "name": "python",
   "nbconvert_exporter": "python",
   "pygments_lexer": "ipython3",
   "version": "3.7.2"
  }
 },
 "nbformat": 4,
 "nbformat_minor": 2
}
