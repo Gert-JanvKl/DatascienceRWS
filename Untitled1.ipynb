{
 "cells": [
  {
   "cell_type": "code",
   "execution_count": 1,
   "metadata": {},
   "outputs": [],
   "source": [
    "# load numpy and pandas for data manipulation\n",
    "import numpy as np\n",
    "import pandas as pd\n",
    "# load statsmodels as alias ``sm``\n",
    "import statsmodels.api as sm\n",
    "# import regex\n",
    "import regex as re\n",
    "# import sqlite3\n",
    "import sqlite3\n",
    "import string\n",
    "from datetime import datetime"
   ]
  },
  {
   "cell_type": "code",
   "execution_count": 24,
   "metadata": {},
   "outputs": [
    {
     "name": "stdout",
     "output_type": "stream",
     "text": [
      "0:00:00.604000\n"
     ]
    }
   ],
   "source": [
    "conn = sqlite3.connect('NO_XXX_EVENT_EXPORT/bridges.db')\n",
    "cursor = conn.cursor()\n",
    "list = []\n",
    "\n",
    "\n",
    "cursor.execute(\"SELECT tijd FROM W5 WHERE [Waarde] LIKE ? AND [Omschrijving] LIKE ?\", (\"%TRUE%\", \"%SFC Brug Commando Brug Openen%\"))\n",
    "datetime_object1 = datetime.strptime(cursor.fetchone()[0], '%m-%d-%Y %H:%M:%S.%f')\n",
    "cursor.execute(\"SELECT tijd FROM W5 WHERE [Waarde] LIKE ? AND [Omschrijving] LIKE ?\", (\"%TRUE%\", \"%SFC Brug Commando Brug Sluiten%\"))\n",
    "datetime_object2 = datetime.strptime(cursor.fetchone()[0], '%m-%d-%Y %H:%M:%S.%f')\n",
    "\n",
    "print(datetime_object2 - datetime_object1)"
   ]
  },
  {
   "cell_type": "code",
   "execution_count": null,
   "metadata": {},
   "outputs": [],
   "source": []
  },
  {
   "cell_type": "code",
   "execution_count": 3,
   "metadata": {},
   "outputs": [
    {
     "name": "stdout",
     "output_type": "stream",
     "text": [
      "[('02-12-2015 19:41:42.995', 'TRUE', 'SFC Brug Commando Brug Openen'), ('02-12-2015 19:38:16.079', 'TRUE', 'SFC Brug Commando Brug Openen'), ('02-12-2015 17:52:00.186', 'TRUE', 'SFC Brug Commando Brug Openen'), ('02-12-2015 17:49:23.283', 'TRUE', 'SFC Brug Commando Brug Openen'), ('02-12-2015 16:51:06.882', 'TRUE', 'SFC Brug Commando Brug Openen'), ('02-12-2015 16:46:01.999', 'TRUE', 'SFC Brug Commando Brug Openen'), ('02-12-2015 15:52:35.992', 'TRUE', 'SFC Brug Commando Brug Openen'), ('02-12-2015 15:49:32.283', 'TRUE', 'SFC Brug Commando Brug Openen'), ('02-12-2015 14:17:13.200', 'TRUE', 'SFC Brug Commando Brug Openen'), ('02-12-2015 14:13:28.987', 'TRUE', 'SFC Brug Commando Brug Openen'), ('02-12-2015 14:04:27.878', 'TRUE', 'SFC Brug Commando Brug Openen'), ('02-12-2015 14:01:16.076', 'TRUE', 'SFC Brug Commando Brug Openen'), ('02-12-2015 13:46:45.399', 'TRUE', 'SFC Brug Commando Brug Openen'), ('02-12-2015 13:42:44.796', 'TRUE', 'SFC Brug Commando Brug Openen'), ('02-12-2015 11:15:43.999', 'TRUE', 'SFC Brug Commando Brug Openen'), ('02-12-2015 11:11:38.794', 'TRUE', 'SFC Brug Commando Brug Openen'), ('02-12-2015 08:18:39.885', 'TRUE', 'SFC Brug Commando Brug Openen'), ('02-12-2015 08:14:49.898', 'TRUE', 'SFC Brug Commando Brug Openen'), ('02-12-2015 06:11:52.090', 'TRUE', 'SFC Brug Commando Brug Openen'), ('02-12-2015 06:06:37.488', 'TRUE', 'SFC Brug Commando Brug Openen')]\n",
      "02-12-2015 19:41:42.995\n",
      "02-12-2015\n",
      "19:41:42.995\n"
     ]
    }
   ],
   "source": [
    "cursor.execute(\"SELECT tijd, Waarde, Omschrijving FROM W5 WHERE [Waarde] LIKE ? AND [Omschrijving] LIKE ?\", (\"%TRUE%\", \"%SFC Brug Commando Brug Openen%\"))\n",
    "print(cursor.fetchmany(20))\n",
    "\n",
    "def convertTupleToString(tup):\n",
    "    str = ''.join(tup)\n",
    "    return str\n",
    "\n",
    "cursor.execute(\"SELECT tijd FROM W5 WHERE [Waarde] LIKE ? AND [Omschrijving] LIKE ?\", (\"%TRUE%\", \"%SFC Brug Commando Brug Openen%\"))\n",
    "geztijd = convertTupleToString(cursor.fetchone()) \n",
    "print(geztijd)\n",
    "\n",
    "firstgez, secondgez = geztijd.split()\n",
    "print(firstgez)\n",
    "print(secondgez)"
   ]
  },
  {
   "cell_type": "code",
   "execution_count": 4,
   "metadata": {
    "scrolled": true
   },
   "outputs": [
    {
     "name": "stdout",
     "output_type": "stream",
     "text": [
      "19:41:42.995\n"
     ]
    }
   ],
   "source": [
    "hour, minutes, seconds = secondgez.split(':')\n",
    "month, day, year = firstgez.split('-')\n",
    "print(secondgez)"
   ]
  },
  {
   "cell_type": "code",
   "execution_count": 5,
   "metadata": {},
   "outputs": [
    {
     "name": "stdout",
     "output_type": "stream",
     "text": [
      "%02-12-2015 19%\n"
     ]
    }
   ],
   "source": [
    "timeSearch = '%' + firstgez + ' ' + hour + '%'\n",
    "print(timeSearch)\n",
    "#timeSearch = tuple([timeSearch])\n",
    "#print(timeSearch)"
   ]
  },
  {
   "cell_type": "code",
   "execution_count": 6,
   "metadata": {},
   "outputs": [
    {
     "name": "stdout",
     "output_type": "stream",
     "text": [
      "[('02-12-2015 19:41:42.995',), ('02-12-2015 19:38:16.079',)]\n"
     ]
    }
   ],
   "source": [
    "cursor.execute(\"SELECT tijd FROM W5 WHERE [Waarde] LIKE ? AND [Omschrijving] LIKE ? AND [Tijd] LIKE ?\", (\"%TRUE%\", \"%SFC Brug Commando Brug Openen%\", timeSearch))\n",
    "list1 = cursor.fetchall()\n",
    "print(list1)"
   ]
  },
  {
   "cell_type": "code",
   "execution_count": 7,
   "metadata": {},
   "outputs": [
    {
     "name": "stdout",
     "output_type": "stream",
     "text": [
      "02-12-2015 19:38:16.079\n",
      "19:38:16.079\n"
     ]
    }
   ],
   "source": [
    "geztijd1 = convertTupleToString((list1[-1]))\n",
    "print(geztijd1)\n",
    "firstgez1, secondgez1 = geztijd1.split()\n",
    "print(secondgez1)"
   ]
  },
  {
   "cell_type": "code",
   "execution_count": 8,
   "metadata": {},
   "outputs": [
    {
     "name": "stdout",
     "output_type": "stream",
     "text": [
      "[('02-12-2015 19:41:43.599',)]\n"
     ]
    }
   ],
   "source": [
    "cursor.execute(\"SELECT tijd FROM W5 WHERE [Waarde] LIKE ? AND [Omschrijving] LIKE ? AND [Tijd] LIKE ?\", (\"%TRUE%\", \"%SFC Brug Commando Brug Sluiten%\", timeSearch))\n",
    "list2 = cursor.fetchall()\n",
    "print(list2)"
   ]
  },
  {
   "cell_type": "code",
   "execution_count": 9,
   "metadata": {},
   "outputs": [
    {
     "name": "stdout",
     "output_type": "stream",
     "text": [
      "02-12-2015 19:41:43.599\n",
      "19:41:43.599\n"
     ]
    }
   ],
   "source": [
    "geztijd2 = convertTupleToString(list2[-1])\n",
    "print(geztijd2)\n",
    "firstgez2, secondgez2 = geztijd2.split()\n",
    "print(secondgez2)"
   ]
  },
  {
   "cell_type": "code",
   "execution_count": 10,
   "metadata": {
    "scrolled": true
   },
   "outputs": [
    {
     "name": "stdout",
     "output_type": "stream",
     "text": [
      "[19, 38, 16]\n",
      "[19, 41, 43]\n",
      "0 3 27\n"
     ]
    }
   ],
   "source": [
    "hour1, minutes1, seconds1 = secondgez1.split(':')\n",
    "hour2, minutes2, seconds2 = secondgez2.split(':')\n",
    "seconds11, seconds12 = seconds1.split('.')\n",
    "seconds21, seconds22 = seconds2.split('.')\n",
    "\n",
    "firsttime = [hour1, minutes1, seconds11]\n",
    "secondtime = [hour2, minutes2, seconds21]\n",
    "\n",
    "firsttime = [int(i) for i in firsttime]\n",
    "secondtime= [int(i) for i in secondtime]\n",
    "print(firsttime)\n",
    "print(secondtime)\n",
    "print(secondtime[-3] - firsttime[-3], secondtime[-2] - firsttime[-2], secondtime[-1] - firsttime[-1])"
   ]
  },
  {
   "cell_type": "markdown",
   "metadata": {},
   "source": [
    "# Loop\n"
   ]
  },
  {
   "cell_type": "code",
   "execution_count": null,
   "metadata": {},
   "outputs": [
    {
     "name": "stdout",
     "output_type": "stream",
     "text": [
      "02-03-2015\n",
      "nothing\n",
      "02-02-2015 13\n",
      "[]\n",
      "[]\n",
      "empty\n",
      "nothing\n",
      "02-02-2015 14\n",
      "[]\n",
      "[]\n",
      "empty\n",
      "nothing\n",
      "02-02-2015 15\n",
      "[]\n",
      "[]\n",
      "empty\n",
      "nothing\n",
      "02-02-2015 16\n",
      "[]\n",
      "[]\n",
      "empty\n",
      "nothing\n",
      "02-02-2015 17\n",
      "[]\n",
      "[]\n",
      "empty\n",
      "nothing\n",
      "02-02-2015 18\n",
      "[]\n",
      "[]\n",
      "empty\n",
      "nothing\n",
      "02-02-2015 19\n",
      "[]\n",
      "[]\n",
      "empty\n",
      "nothing\n",
      "02-02-2015 20\n",
      "[]\n",
      "[]\n",
      "empty\n",
      "nothing\n",
      "02-02-2015 21\n",
      "[]\n",
      "[]\n",
      "empty\n",
      "nothing\n",
      "02-02-2015 22\n",
      "[]\n"
     ]
    }
   ],
   "source": [
    "print(timeSearch)\n",
    "hour = 12\n",
    "count = 0\n",
    "day = '02'\n",
    "while count <= 20:\n",
    "    hour = int(hour)\n",
    "    hour = hour + 1\n",
    "    if(hour >= 24):\n",
    "        hour = 12\n",
    "        day = day[1:]\n",
    "        day = int(day)\n",
    "        day = day + 1\n",
    "        day = '0' + str(day)\n",
    "    elif(hour < 24):\n",
    "        print(\"nothing\")\n",
    "    hour = str(hour)\n",
    "    day = str(day)\n",
    "    month = str(month)\n",
    "    year = str(year)\n",
    "    timeSearch = month + '-' + day + '-' + year + ' ' + hour\n",
    "    print(timeSearch)\n",
    "    try:\n",
    "        cursor.execute(\"SELECT tijd FROM W5 WHERE [Waarde] LIKE ? AND [Omschrijving] LIKE ? AND [tijd] LIKE ?\", (\"%TRUE%\", \"%SFC Brug Commando Brug Openen%\", timeSearch))\n",
    "        list1 = cursor.fetchall()\n",
    "        print(list1)\n",
    "        cursor.execute(\"SELECT tijd FROM W5 WHERE [Waarde] LIKE ? AND [Omschrijving] LIKE ? AND [tijd] LIKE ?\", (\"%TRUE%\", \"%SFC Brug Commando Brug Sluiten%\", timeSearch))\n",
    "        list2 = cursor.fetchall()\n",
    "        print(list2)\n",
    "        if list1 == [] or list2 == []:\n",
    "            print('empty')\n",
    "        else:\n",
    "            geztijd1 = convertTupleToString((list1[-1]))\n",
    "            print(geztijd1)\n",
    "            geztijd2 = convertTupleToString(list2[-1])\n",
    "            print(geztijd2)\n",
    "            firstgez1, secondgez1 = geztijd1.split()\n",
    "            print(secondgez1)\n",
    "            firstgez2, secondgez2 = geztijd2.split()\n",
    "            print(secondgez2)\n",
    "            geztijd2 = convertTupleToString(list2[-1])\n",
    "            print(geztijd2)\n",
    "            firstgez2, secondgez2 = geztijd2.split()\n",
    "            print(secondgez2)\n",
    "            hour1, minutes1, seconds1 = secondgez1.split(':')\n",
    "            hour2, minutes2, seconds2 = secondgez2.split(':')\n",
    "            seconds11, seconds12 = seconds1.split('.')\n",
    "            seconds21, seconds22 = seconds2.split('.')\n",
    "\n",
    "            firsttime = [hour1, minutes1, seconds11]\n",
    "            secondtime = [hour2, minutes2, seconds21]\n",
    "\n",
    "            firsttime = [int(i) for i in firsttime]\n",
    "            secondtime= [int(i) for i in secondtime]\n",
    "            print(firsttime)\n",
    "            print(secondtime)\n",
    "            print(secondtime[-3] - firsttime[-3], secondtime[-2] - firsttime[-2], secondtime[-1] - firsttime[-1])\n",
    "\n",
    "    except IndexError as error:\n",
    "        # Output expected IndexErrors.\n",
    "        Logging.log_exception(error)\n",
    "        \n",
    "    count = count + 1\n"
   ]
  },
  {
   "cell_type": "markdown",
   "metadata": {},
   "source": []
  },
  {
   "cell_type": "code",
   "execution_count": null,
   "metadata": {},
   "outputs": [],
   "source": []
  }
 ],
 "metadata": {
  "kernelspec": {
   "display_name": "Python 3",
   "language": "python",
   "name": "python3"
  },
  "language_info": {
   "codemirror_mode": {
    "name": "ipython",
    "version": 3
   },
   "file_extension": ".py",
   "mimetype": "text/x-python",
   "name": "python",
   "nbconvert_exporter": "python",
   "pygments_lexer": "ipython3",
   "version": "3.7.2"
  }
 },
 "nbformat": 4,
 "nbformat_minor": 2
}
