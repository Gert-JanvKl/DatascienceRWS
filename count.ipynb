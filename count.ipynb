{
 "cells": [
  {
   "cell_type": "code",
   "execution_count": 31,
   "metadata": {},
   "outputs": [
    {
     "name": "stdout",
     "output_type": "stream",
     "text": [
      "[('Meteo Commando Reset Storing', 'FALSE'), ('Meteo Commando Reset Storing', 'TRUE'), ('Meteo Commando Reset Storing', 'FALSE'), ('Meteo Commando Reset Storing', 'TRUE'), ('Meteo Commando Reset Storing', 'FALSE'), ('Meteo Commando Reset Storing', 'TRUE'), ('Meteo Commando Reset Storing', 'FALSE'), ('Meteo Commando Reset Storing', 'TRUE'), ('Meteo Commando Reset Storing', 'FALSE'), ('Meteo Commando Reset Storing', 'TRUE'), ('Meteo Commando Reset Storing', 'FALSE'), ('Meteo Commando Reset Storing', 'TRUE'), ('Meteo Commando Reset Storing', 'FALSE'), ('Meteo Commando Reset Storing', 'TRUE'), ('Meteo Commando Reset Storing', 'FALSE'), ('Meteo Actuele Windkracht', '0'), ('Meteo Gemiddelde Windkracht', '0'), ('Meteo Hoogste Windkracht', '0'), ('Meteo Actuele Windrichting', '8'), ('Meteo Gemiddelde Windrichting', '0'), ('Meteo Actuele Luchtdruk', '0'), ('Meteo Actuele Luchtvochtigheid', '0'), ('Meteo Actuele Waterhoogte', '0'), ('Meteo Actuele Onderdoorvaarthoogte', '0'), ('Meteo Actuele Temperatuur', '0'), ('Meteo Windstoot Actief', 'FALSE'), ('Meteo Commando Reset Storing', 'FALSE'), ('Meteo Commando Reset Storing', 'TRUE'), ('Meteo Commando Reset Storing', 'FALSE'), ('Meteo Commando Reset Storing', 'TRUE'), ('Meteo Commando Reset Storing', 'FALSE'), ('Meteo Commando Reset Storing', 'TRUE'), ('Meteo Commando Reset Storing', 'FALSE'), ('Meteo Commando Reset Storing', 'TRUE'), ('Meteo Commando Reset Storing', 'FALSE'), ('Meteo Commando Reset Storing', 'TRUE'), ('Meteo Commando Reset Storing', 'FALSE'), ('Meteo Commando Reset Storing', 'TRUE'), ('Meteo Commando Reset Storing', 'FALSE'), ('Meteo Commando Reset Storing', 'TRUE'), ('Meteo Commando Reset Storing', 'FALSE'), ('Meteo Commando Reset Storing', 'TRUE'), ('Meteo Commando Reset Storing', 'FALSE'), ('Meteo Commando Reset Storing', 'TRUE'), ('Meteo Commando Reset Storing', 'FALSE'), ('Meteo Commando Reset Storing', 'TRUE'), ('Meteo Commando Reset Storing', 'FALSE'), ('Meteo Commando Reset Storing', 'TRUE'), ('Meteo Commando Reset Storing', 'FALSE'), ('Meteo Commando Reset Storing', 'TRUE'), ('Meteo Commando Reset Storing', 'FALSE'), ('Meteo Commando Reset Storing', 'TRUE'), ('Meteo Commando Reset Storing', 'FALSE'), ('Meteo Commando Reset Storing', 'TRUE'), ('Meteo Commando Reset Storing', 'FALSE'), ('Meteo Commando Reset Storing', 'TRUE'), ('Meteo Commando Reset Storing', 'FALSE'), ('Meteo Commando Reset Storing', 'TRUE'), ('Meteo Commando Reset Storing', 'FALSE'), ('Meteo Commando Reset Storing', 'TRUE'), ('Meteo Commando Reset Storing', 'FALSE'), ('Meteo Commando Reset Storing', 'TRUE'), ('Meteo Commando Reset Storing', 'FALSE'), ('Meteo Commando Reset Storing', 'TRUE'), ('Meteo Commando Reset Storing', 'FALSE'), ('Meteo Commando Reset Storing', 'TRUE'), ('Meteo Commando Reset Storing', 'FALSE'), ('Meteo Commando Reset Storing', 'TRUE'), ('Meteo Commando Reset Storing', 'FALSE'), ('Meteo Commando Reset Storing', 'TRUE'), ('Meteo Commando Reset Storing', 'FALSE'), ('Meteo Commando Reset Storing', 'TRUE'), ('Meteo Commando Reset Storing', 'FALSE'), ('Meteo Commando Reset Storing', 'TRUE'), ('Meteo Gemiddelde Windkracht', '0'), ('Meteo Actuele Windkracht', '0'), ('Meteo Actuele Temperatuur', '0'), ('Meteo Actuele Windkracht', '0.67274302244186'), ('Meteo Actuele Windrichting', '58'), ('Meteo Actuele Windkracht', '0.34722220897675'), ('Meteo Actuele Windrichting', '173'), ('Meteo Actuele Temperatuur', '10.375199317932'), ('Meteo Actuele Windkracht', '1.5407985448837'), ('Meteo Actuele Windrichting', '141'), ('Meteo Actuele Temperatuur', '10.476467132568'), ('Meteo Actuele Windkracht', '0.32552081346512'), ('Meteo Actuele Windrichting', '208'), ('Meteo Actuele Windkracht', '0.1953125'), ('Meteo Actuele Windrichting', '300'), ('Meteo Actuele Temperatuur', '10.577255249023'), ('Meteo Actuele Windkracht', '1.3237847089767'), ('Meteo Actuele Windrichting', '83'), ('Meteo Actuele Temperatuur', '10.678524971008'), ('Meteo Actuele Windkracht', '1.779513835907'), ('Meteo Actuele Windrichting', '238'), ('Meteo Gemiddelde Windkracht', '0.89084190130234'), ('Meteo Actuele Windkracht', '0.69444441795349'), ('Meteo Actuele Windrichting', '160'), ('Meteo Actuele Temperatuur', '10.783662796021'), ('Meteo Actuele Windkracht', '1.3454860448837'), ('Meteo Actuele Windrichting', '252'), ('Meteo Actuele Windkracht', '0.15190970897675'), ('Meteo Actuele Windrichting', '148'), ('Meteo Actuele Windkracht', '2.7126734256744'), ('Meteo Gemiddelde Windkracht', '0.68467879295349'), ('Meteo Actuele Windrichting', '267'), ('Meteo Actuele Temperatuur', '10.883968353271'), ('Meteo Actuele Temperatuur', '10'), ('Meteo Commando Reset Storing', 'FALSE'), ('Meteo Commando Reset Storing', 'TRUE'), ('Meteo Commando Reset Storing', 'FALSE'), ('Meteo Commando Reset Storing', 'TRUE'), ('Meteo Commando Reset Storing', 'FALSE'), ('Meteo Commando Reset Storing', 'TRUE'), ('Meteo Commando Reset Storing', 'FALSE'), ('Meteo Commando Reset Storing', 'TRUE'), ('Meteo Commando Reset Storing', 'FALSE'), ('Meteo Commando Reset Storing', 'TRUE'), ('Meteo Commando Reset Storing', 'FALSE'), ('Meteo Commando Reset Storing', 'TRUE'), ('Meteo Commando Reset Storing', 'FALSE'), ('Meteo Commando Reset Storing', 'TRUE'), ('Meteo Commando Reset Storing', 'FALSE'), ('Meteo Commando Reset Storing', 'TRUE'), ('Meteo Commando Reset Storing', 'FALSE'), ('Meteo Commando Reset Storing', 'TRUE'), ('Meteo Commando Reset Storing', 'FALSE'), ('Meteo Commando Reset Storing', 'TRUE'), ('Meteo Commando Reset Storing', 'FALSE'), ('Meteo Commando Reset Storing', 'TRUE'), ('Meteo Commando Reset Storing', 'FALSE'), ('Meteo Commando Reset Storing', 'TRUE'), ('Meteo Commando Reset Storing', 'FALSE'), ('Meteo Commando Reset Storing', 'TRUE'), ('Meteo Commando Reset Storing', 'FALSE'), ('Meteo Commando Reset Storing', 'TRUE'), ('Meteo Commando Reset Storing', 'FALSE'), ('Meteo Commando Reset Storing', 'TRUE'), ('Meteo Commando Reset Storing', 'FALSE'), ('Meteo Commando Reset Storing', 'TRUE'), ('Meteo Commando Reset Storing', 'FALSE'), ('Meteo Commando Reset Storing', 'TRUE'), ('Meteo Commando Reset Storing', 'FALSE'), ('Meteo Commando Reset Storing', 'TRUE'), ('Meteo Commando Reset Storing', 'FALSE'), ('Meteo Commando Reset Storing', 'TRUE'), ('Meteo Commando Reset Storing', 'FALSE'), ('Meteo Commando Reset Storing', 'TRUE'), ('Meteo Commando Reset Storing', 'FALSE'), ('Meteo Commando Reset Storing', 'TRUE'), ('Meteo Commando Reset Storing', 'FALSE'), ('Meteo Actuele Windkracht', '0'), ('Meteo Gemiddelde Windkracht', '0'), ('Meteo Hoogste Windkracht', '0'), ('Meteo Actuele Windrichting', '8'), ('Meteo Gemiddelde Windrichting', '0'), ('Meteo Actuele Luchtdruk', '0'), ('Meteo Actuele Luchtvochtigheid', '0'), ('Meteo Actuele Waterhoogte', '0'), ('Meteo Actuele Onderdoorvaarthoogte', '0'), ('Meteo Actuele Temperatuur', '0'), ('Meteo Windstoot Actief', 'FALSE'), ('Meteo Commando Reset Storing', 'FALSE'), ('Meteo Actuele Windkracht', '0'), ('Meteo Gemiddelde Windkracht', '0'), ('Meteo Hoogste Windkracht', '0'), ('Meteo Actuele Windrichting', '8'), ('Meteo Gemiddelde Windrichting', '0'), ('Meteo Actuele Luchtdruk', '0'), ('Meteo Actuele Luchtvochtigheid', '0'), ('Meteo Actuele Waterhoogte', '0'), ('Meteo Actuele Onderdoorvaarthoogte', '0'), ('Meteo Actuele Temperatuur', '0'), ('Meteo Windstoot Actief', 'FALSE'), ('Meteo Commando Reset Storing', 'FALSE'), ('Meteo Actuele Windkracht', '0'), ('Meteo Gemiddelde Windkracht', '0'), ('Meteo Hoogste Windkracht', '0'), ('Meteo Actuele Windrichting', '8'), ('Meteo Gemiddelde Windrichting', '0'), ('Meteo Actuele Luchtdruk', '0'), ('Meteo Actuele Luchtvochtigheid', '0'), ('Meteo Actuele Waterhoogte', '0'), ('Meteo Actuele Onderdoorvaarthoogte', '0'), ('Meteo Actuele Temperatuur', '0'), ('Meteo Windstoot Actief', 'FALSE'), ('Meteo Commando Reset Storing', 'FALSE'), ('Meteo Commando Reset Storing', 'TRUE'), ('Meteo Commando Reset Storing', 'FALSE'), ('Meteo Commando Reset Storing', 'TRUE'), ('Meteo Commando Reset Storing', 'FALSE'), ('Meteo Commando Reset Storing', 'TRUE'), ('Meteo Commando Reset Storing', 'FALSE'), ('Meteo Commando Reset Storing', 'TRUE'), ('Meteo Commando Reset Storing', 'FALSE'), ('Meteo Actuele Windkracht', '0'), ('Meteo Gemiddelde Windkracht', '0'), ('Meteo Hoogste Windkracht', '0'), ('Meteo Actuele Windrichting', '8'), ('Meteo Gemiddelde Windrichting', '0'), ('Meteo Actuele Luchtdruk', '0'), ('Meteo Actuele Luchtvochtigheid', '0'), ('Meteo Actuele Waterhoogte', '0'), ('Meteo Actuele Onderdoorvaarthoogte', '0'), ('Meteo Actuele Temperatuur', '0'), ('Meteo Windstoot Actief', 'FALSE'), ('Meteo Commando Reset Storing', 'FALSE'), ('Meteo Actuele Windkracht', '0'), ('Meteo Gemiddelde Windkracht', '0'), ('Meteo Hoogste Windkracht', '0'), ('Meteo Actuele Windrichting', '8'), ('Meteo Gemiddelde Windrichting', '0'), ('Meteo Actuele Luchtdruk', '0'), ('Meteo Actuele Luchtvochtigheid', '0'), ('Meteo Actuele Waterhoogte', '0'), ('Meteo Actuele Onderdoorvaarthoogte', '0'), ('Meteo Actuele Temperatuur', '0'), ('Meteo Windstoot Actief', 'FALSE'), ('Meteo Commando Reset Storing', 'FALSE'), ('Meteo Commando Reset Storing', 'TRUE'), ('Meteo Commando Reset Storing', 'FALSE'), ('Meteo Commando Reset Storing', 'TRUE'), ('Meteo Commando Reset Storing', 'FALSE'), ('Meteo Commando Reset Storing', 'TRUE'), ('Meteo Commando Reset Storing', 'FALSE'), ('Meteo Commando Reset Storing', 'TRUE'), ('Meteo Commando Reset Storing', 'FALSE'), ('Meteo Commando Reset Storing', 'TRUE'), ('Meteo Commando Reset Storing', 'FALSE'), ('Meteo Commando Reset Storing', 'TRUE'), ('Meteo Commando Reset Storing', 'FALSE'), ('Meteo Commando Reset Storing', 'TRUE'), ('Meteo Commando Reset Storing', 'FALSE'), ('Meteo Commando Reset Storing', 'TRUE'), ('Meteo Commando Reset Storing', 'FALSE'), ('Meteo Commando Reset Storing', 'TRUE'), ('Meteo Commando Reset Storing', 'FALSE'), ('Meteo Commando Reset Storing', 'TRUE'), ('Meteo Commando Reset Storing', 'FALSE'), ('Meteo Commando Reset Storing', 'TRUE'), ('Meteo Commando Reset Storing', 'FALSE'), ('Meteo Commando Reset Storing', 'TRUE'), ('Meteo Commando Reset Storing', 'FALSE'), ('Meteo Commando Reset Storing', 'TRUE'), ('Meteo Commando Reset Storing', 'FALSE'), ('Meteo Commando Reset Storing', 'TRUE'), ('Meteo Commando Reset Storing', 'FALSE'), ('Meteo Commando Reset Storing', 'TRUE'), ('Meteo Commando Reset Storing', 'FALSE'), ('Meteo Commando Reset Storing', 'TRUE'), ('Meteo Commando Reset Storing', 'FALSE'), ('Meteo Commando Reset Storing', 'TRUE')]\n",
      "[]\n"
     ]
    }
   ],
   "source": [
    "import sqlite3\n",
    "\n",
    "conn = sqlite3.connect('NO_XXX_EVENT_EXPORT/bridges.db')\n",
    "cursor = conn.cursor()\n",
    "list = []\n",
    "# cursor.execute(\"SELECT * FROM W5 WHERE [Omschrijving] LIKE '%Meteo%'\")\n",
    "cursor.execute(\"SELECT Omschrijving, Waarde FROM W5 WHERE [Omschrijving] LIKE '%meteo%'\")\n",
    "\n",
    "\n",
    "print(cursor.fetchall())\n"
   ]
  },
  {
   "cell_type": "code",
   "execution_count": 36,
   "metadata": {},
   "outputs": [
    {
     "name": "stdout",
     "output_type": "stream",
     "text": [
      "[(152, 'Meteo Commando Reset Storing', 'TRUE')]\n"
     ]
    }
   ],
   "source": [
    "cursor.execute(\"SELECT count(Omschrijving) FROM W5 WHERE [Omschrijving] LIKE '%Meteo Commando Reset Storing%'\")\n",
    "print(cursor.fetchall())"
   ]
  },
  {
   "cell_type": "code",
   "execution_count": null,
   "metadata": {},
   "outputs": [],
   "source": []
  }
 ],
 "metadata": {
  "kernelspec": {
   "display_name": "Python 3",
   "language": "python",
   "name": "python3"
  },
  "language_info": {
   "codemirror_mode": {
    "name": "ipython",
    "version": 3
   },
   "file_extension": ".py",
   "mimetype": "text/x-python",
   "name": "python",
   "nbconvert_exporter": "python",
   "pygments_lexer": "ipython3",
   "version": "3.6.7"
  }
 },
 "nbformat": 4,
 "nbformat_minor": 2
}
