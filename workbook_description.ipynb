{
 "cells": [
  {
   "cell_type": "code",
   "execution_count": null,
   "metadata": {},
   "outputs": [],
   "source": [
    "import pandas as pd\n",
    "pandas.path.append('C:/Users/Gebruiker/AppData/Local/Programs/Python/Python37-32')\n",
    "\n",
    "\n",
    "bridge_df = pd.read_csv(\"D:/School/Schooljaar 2/python/NO_XXX_EVENT_EXPORT/NO_XXX_EVENT_EXPORT\")\n",
    "bridge_df2 = pd.read_csv(\"/NO_XXX_EVENT_EXPORT\")\n",
    "\n",
    "print(pd.DataFrame.equals(bridge_df, bridge_df2))\n"
   ]
  }
 ],
 "metadata": {},
 "nbformat": 4,
 "nbformat_minor": 0
}
